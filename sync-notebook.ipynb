{
 "metadata": {
  "language_info": {
   "codemirror_mode": {
    "name": "ipython",
    "version": 3
   },
   "file_extension": ".py",
   "mimetype": "text/x-python",
   "name": "python",
   "nbconvert_exporter": "python",
   "pygments_lexer": "ipython3",
   "version": "3.8.6"
  },
  "orig_nbformat": 2,
  "kernelspec": {
   "name": "python386jvsc74a57bd0a1829e0410fcc705caf7d4d0bf0f85ae2b58371b93ebb4003383f7fde0ba86e4",
   "display_name": "Python 3.8.6 64-bit"
  },
  "metadata": {
   "interpreter": {
    "hash": "a1829e0410fcc705caf7d4d0bf0f85ae2b58371b93ebb4003383f7fde0ba86e4"
   }
  }
 },
 "nbformat": 4,
 "nbformat_minor": 2,
 "cells": [
  {
   "cell_type": "code",
   "execution_count": 1,
   "metadata": {},
   "outputs": [],
   "source": [
    "from googleapiclient.discovery import build\n",
    "from google.oauth2.credentials import Credentials\n",
    "\n",
    "from google.oauth2 import service_account\n",
    "\n",
    "import pandas as pd"
   ]
  },
  {
   "cell_type": "code",
   "execution_count": 4,
   "metadata": {},
   "outputs": [],
   "source": [
    "# Configuring the credentials\n",
    "SCOPES = ['https://www.googleapis.com/auth/spreadsheets']\n",
    "SERVICE_ACCOUNT_FILE = 'key.json'\n",
    "\n",
    "creds = None\n",
    "creds = service_account.Credentials.from_service_account_file(\n",
    "    SERVICE_ACCOUNT_FILE, scopes=SCOPES)"
   ]
  },
  {
   "cell_type": "code",
   "execution_count": 6,
   "metadata": {},
   "outputs": [],
   "source": [
    "# Defining the constants\n",
    "SAMPLE_SPREADSHEET_ID = '1EbJDUvYzy2tmeVCh8sfMSI7jJQYsEBYFvpLEsacQVYw' # Refers to the intented spreadsheet"
   ]
  },
  {
   "cell_type": "code",
   "execution_count": 7,
   "metadata": {},
   "outputs": [],
   "source": [
    "# Build the service\n",
    "service = build('sheets', 'v4', credentials=creds)"
   ]
  },
  {
   "cell_type": "code",
   "execution_count": 22,
   "metadata": {},
   "outputs": [],
   "source": [
    "# Access the sheets\n",
    "sheet = service.spreadsheets()\n",
    "result = sheet.values().get(spreadsheetId=SAMPLE_SPREADSHEET_ID,\n",
    "                            range=\"sheet1\").execute()"
   ]
  },
  {
   "cell_type": "code",
   "execution_count": 23,
   "metadata": {},
   "outputs": [],
   "source": [
    "values = result.get('values', [])\n",
    "column_names = values[0]\n",
    "values.remove(column_names)"
   ]
  },
  {
   "cell_type": "code",
   "execution_count": 27,
   "metadata": {},
   "outputs": [
    {
     "output_type": "execute_result",
     "data": {
      "text/plain": [
       "            Timestamp Oxygen Levels Pulse BP - Systole BP - Diastole  \\\n",
       "0   5/9/2021 22:26:26            99    68          134            79   \n",
       "1   5/9/2021 23:10:28            99    67          146            84   \n",
       "2  5/10/2021 16:30:37            99    68          126            87   \n",
       "\n",
       "  Temperature Blood Sugar Filled By: Date of check? Time of check?  \n",
       "0        99.3               Rushyant       5/9/2021     9:18:00 PM  \n",
       "1        99.4           1   Rushyant       5/9/2021    11:10:00 PM  \n",
       "2        99.3               Abhishek      5/10/2021     3:45:00 PM  "
      ],
      "text/html": "<div>\n<style scoped>\n    .dataframe tbody tr th:only-of-type {\n        vertical-align: middle;\n    }\n\n    .dataframe tbody tr th {\n        vertical-align: top;\n    }\n\n    .dataframe thead th {\n        text-align: right;\n    }\n</style>\n<table border=\"1\" class=\"dataframe\">\n  <thead>\n    <tr style=\"text-align: right;\">\n      <th></th>\n      <th>Timestamp</th>\n      <th>Oxygen Levels</th>\n      <th>Pulse</th>\n      <th>BP - Systole</th>\n      <th>BP - Diastole</th>\n      <th>Temperature</th>\n      <th>Blood Sugar</th>\n      <th>Filled By:</th>\n      <th>Date of check?</th>\n      <th>Time of check?</th>\n    </tr>\n  </thead>\n  <tbody>\n    <tr>\n      <th>0</th>\n      <td>5/9/2021 22:26:26</td>\n      <td>99</td>\n      <td>68</td>\n      <td>134</td>\n      <td>79</td>\n      <td>99.3</td>\n      <td></td>\n      <td>Rushyant</td>\n      <td>5/9/2021</td>\n      <td>9:18:00 PM</td>\n    </tr>\n    <tr>\n      <th>1</th>\n      <td>5/9/2021 23:10:28</td>\n      <td>99</td>\n      <td>67</td>\n      <td>146</td>\n      <td>84</td>\n      <td>99.4</td>\n      <td>1</td>\n      <td>Rushyant</td>\n      <td>5/9/2021</td>\n      <td>11:10:00 PM</td>\n    </tr>\n    <tr>\n      <th>2</th>\n      <td>5/10/2021 16:30:37</td>\n      <td>99</td>\n      <td>68</td>\n      <td>126</td>\n      <td>87</td>\n      <td>99.3</td>\n      <td></td>\n      <td>Abhishek</td>\n      <td>5/10/2021</td>\n      <td>3:45:00 PM</td>\n    </tr>\n  </tbody>\n</table>\n</div>"
     },
     "metadata": {},
     "execution_count": 27
    }
   ],
   "source": [
    "stats = pd.DataFrame(values, columns = column_names)\n",
    "stats"
   ]
  },
  {
   "cell_type": "code",
   "execution_count": null,
   "metadata": {},
   "outputs": [],
   "source": []
  }
 ]
}